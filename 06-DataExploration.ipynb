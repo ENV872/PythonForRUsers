{
 "cells": [
  {
   "cell_type": "markdown",
   "metadata": {},
   "source": [
    "## LESSON OBJECTIVES\n",
    "1. Set up a data analysis session in RStudio\n",
    "2. Import and explore datasets in R\n",
    "3. Apply data exploration skills to a real-world example dataset\n",
    "\n",
    "## OPENING DISCUSSION: WHY DO WE EXPLORE OUR DATA?\n",
    "\n",
    "Why is data exploration our first step in analyzing a dataset? What information do we gain? How does data exploration aid in our decision-making for data analysis steps further down the pipeline?\n",
    "\n",
    "## IMPORT DATA AND VIEW SUMMARIES"
   ]
  },
  {
   "cell_type": "code",
   "execution_count": 74,
   "metadata": {},
   "outputs": [],
   "source": [
    "#Import the Pandas package\n",
    "import pandas as pd\n",
    "from datetime import datetime, timedelta"
   ]
  },
  {
   "cell_type": "code",
   "execution_count": 2,
   "metadata": {},
   "outputs": [],
   "source": [
    "#Read the USGS flow data into a Pandas dataframe\n",
    "df_USGS = pd.read_csv('./data/Raw/USGS_Site02085000_Flow_Raw.csv')"
   ]
  },
  {
   "cell_type": "code",
   "execution_count": 3,
   "metadata": {},
   "outputs": [],
   "source": [
    "#Rename columns -- R: colnames(df_USGS) <- c(...)\n",
    "df_USGS.columns = (\"agency_cd\", \"site_no\", \"datetime\", \n",
    "                   \"discharge_max\", \"discharge_max_approval\", \n",
    "                   \"discharge_min\", \"discharge_min_approval\", \n",
    "                   \"discharge_mean\", \"discharge_mean_approval\", \n",
    "                   \"gage_height_max\", \"gage_height_max_approval\", \n",
    "                   \"gage_height_min\", \"gage_height_min-approval\", \n",
    "                   \"gage_height_mean\", \"gage_height_mean_approval\")"
   ]
  },
  {
   "cell_type": "code",
   "execution_count": 4,
   "metadata": {},
   "outputs": [
    {
     "data": {
      "text/html": [
       "<div>\n",
       "<style scoped>\n",
       "    .dataframe tbody tr th:only-of-type {\n",
       "        vertical-align: middle;\n",
       "    }\n",
       "\n",
       "    .dataframe tbody tr th {\n",
       "        vertical-align: top;\n",
       "    }\n",
       "\n",
       "    .dataframe thead th {\n",
       "        text-align: right;\n",
       "    }\n",
       "</style>\n",
       "<table border=\"1\" class=\"dataframe\">\n",
       "  <thead>\n",
       "    <tr style=\"text-align: right;\">\n",
       "      <th></th>\n",
       "      <th>agency_cd</th>\n",
       "      <th>site_no</th>\n",
       "      <th>datetime</th>\n",
       "      <th>discharge_max</th>\n",
       "      <th>discharge_max_approval</th>\n",
       "      <th>discharge_min</th>\n",
       "      <th>discharge_min_approval</th>\n",
       "      <th>discharge_mean</th>\n",
       "      <th>discharge_mean_approval</th>\n",
       "      <th>gage_height_max</th>\n",
       "      <th>gage_height_max_approval</th>\n",
       "      <th>gage_height_min</th>\n",
       "      <th>gage_height_min-approval</th>\n",
       "      <th>gage_height_mean</th>\n",
       "      <th>gage_height_mean_approval</th>\n",
       "    </tr>\n",
       "  </thead>\n",
       "  <tbody>\n",
       "    <tr>\n",
       "      <th>0</th>\n",
       "      <td>USGS</td>\n",
       "      <td>2085000</td>\n",
       "      <td>1/1/28</td>\n",
       "      <td>74.0</td>\n",
       "      <td>A</td>\n",
       "      <td>NaN</td>\n",
       "      <td>NaN</td>\n",
       "      <td>NaN</td>\n",
       "      <td>NaN</td>\n",
       "      <td>NaN</td>\n",
       "      <td>NaN</td>\n",
       "      <td>NaN</td>\n",
       "      <td>NaN</td>\n",
       "      <td>NaN</td>\n",
       "      <td>NaN</td>\n",
       "    </tr>\n",
       "    <tr>\n",
       "      <th>1</th>\n",
       "      <td>USGS</td>\n",
       "      <td>2085000</td>\n",
       "      <td>1/2/28</td>\n",
       "      <td>61.0</td>\n",
       "      <td>A</td>\n",
       "      <td>NaN</td>\n",
       "      <td>NaN</td>\n",
       "      <td>NaN</td>\n",
       "      <td>NaN</td>\n",
       "      <td>NaN</td>\n",
       "      <td>NaN</td>\n",
       "      <td>NaN</td>\n",
       "      <td>NaN</td>\n",
       "      <td>NaN</td>\n",
       "      <td>NaN</td>\n",
       "    </tr>\n",
       "    <tr>\n",
       "      <th>2</th>\n",
       "      <td>USGS</td>\n",
       "      <td>2085000</td>\n",
       "      <td>1/3/28</td>\n",
       "      <td>56.0</td>\n",
       "      <td>A</td>\n",
       "      <td>NaN</td>\n",
       "      <td>NaN</td>\n",
       "      <td>NaN</td>\n",
       "      <td>NaN</td>\n",
       "      <td>NaN</td>\n",
       "      <td>NaN</td>\n",
       "      <td>NaN</td>\n",
       "      <td>NaN</td>\n",
       "      <td>NaN</td>\n",
       "      <td>NaN</td>\n",
       "    </tr>\n",
       "    <tr>\n",
       "      <th>3</th>\n",
       "      <td>USGS</td>\n",
       "      <td>2085000</td>\n",
       "      <td>1/4/28</td>\n",
       "      <td>54.0</td>\n",
       "      <td>A</td>\n",
       "      <td>NaN</td>\n",
       "      <td>NaN</td>\n",
       "      <td>NaN</td>\n",
       "      <td>NaN</td>\n",
       "      <td>NaN</td>\n",
       "      <td>NaN</td>\n",
       "      <td>NaN</td>\n",
       "      <td>NaN</td>\n",
       "      <td>NaN</td>\n",
       "      <td>NaN</td>\n",
       "    </tr>\n",
       "    <tr>\n",
       "      <th>4</th>\n",
       "      <td>USGS</td>\n",
       "      <td>2085000</td>\n",
       "      <td>1/5/28</td>\n",
       "      <td>48.0</td>\n",
       "      <td>A</td>\n",
       "      <td>NaN</td>\n",
       "      <td>NaN</td>\n",
       "      <td>NaN</td>\n",
       "      <td>NaN</td>\n",
       "      <td>NaN</td>\n",
       "      <td>NaN</td>\n",
       "      <td>NaN</td>\n",
       "      <td>NaN</td>\n",
       "      <td>NaN</td>\n",
       "      <td>NaN</td>\n",
       "    </tr>\n",
       "  </tbody>\n",
       "</table>\n",
       "</div>"
      ],
      "text/plain": [
       "  agency_cd  site_no datetime  discharge_max discharge_max_approval  \\\n",
       "0      USGS  2085000   1/1/28           74.0                      A   \n",
       "1      USGS  2085000   1/2/28           61.0                      A   \n",
       "2      USGS  2085000   1/3/28           56.0                      A   \n",
       "3      USGS  2085000   1/4/28           54.0                      A   \n",
       "4      USGS  2085000   1/5/28           48.0                      A   \n",
       "\n",
       "   discharge_min discharge_min_approval  discharge_mean  \\\n",
       "0            NaN                    NaN             NaN   \n",
       "1            NaN                    NaN             NaN   \n",
       "2            NaN                    NaN             NaN   \n",
       "3            NaN                    NaN             NaN   \n",
       "4            NaN                    NaN             NaN   \n",
       "\n",
       "  discharge_mean_approval  gage_height_max gage_height_max_approval  \\\n",
       "0                     NaN              NaN                      NaN   \n",
       "1                     NaN              NaN                      NaN   \n",
       "2                     NaN              NaN                      NaN   \n",
       "3                     NaN              NaN                      NaN   \n",
       "4                     NaN              NaN                      NaN   \n",
       "\n",
       "   gage_height_min gage_height_min-approval  gage_height_mean  \\\n",
       "0              NaN                      NaN               NaN   \n",
       "1              NaN                      NaN               NaN   \n",
       "2              NaN                      NaN               NaN   \n",
       "3              NaN                      NaN               NaN   \n",
       "4              NaN                      NaN               NaN   \n",
       "\n",
       "  gage_height_mean_approval  \n",
       "0                       NaN  \n",
       "1                       NaN  \n",
       "2                       NaN  \n",
       "3                       NaN  \n",
       "4                       NaN  "
      ]
     },
     "execution_count": 4,
     "metadata": {},
     "output_type": "execute_result"
    }
   ],
   "source": [
    "#Examine the data\n",
    "df_USGS.head()"
   ]
  },
  {
   "cell_type": "markdown",
   "metadata": {},
   "source": [
    "## ADJUSTING DATASETS\n",
    "\n",
    "### Formatting dates\n",
    "As in R, dates in imported CSV files aren't recognized automatically, as dates can take many formats. Inspection of the `datetime` column in our dataframe indicates it was imported as an \"Object\" (\"`O`\"), which likely means as a raw string."
   ]
  },
  {
   "cell_type": "code",
   "execution_count": 5,
   "metadata": {},
   "outputs": [
    {
     "data": {
      "text/plain": [
       "dtype('O')"
      ]
     },
     "execution_count": 5,
     "metadata": {},
     "output_type": "execute_result"
    }
   ],
   "source": [
    "#Reveal the data type of the 'datetime' column\n",
    "df_USGS['datetime'].dtype"
   ]
  },
  {
   "cell_type": "markdown",
   "metadata": {},
   "source": [
    "Dates are tricky. Python's `datetime` package helps, but it too is somewhat confusing. First, we can use it to get today's date using its `today` (or `now` function), but it returns a peculiar object"
   ]
  },
  {
   "cell_type": "code",
   "execution_count": 26,
   "metadata": {},
   "outputs": [
    {
     "data": {
      "text/plain": [
       "datetime.datetime"
      ]
     },
     "execution_count": 26,
     "metadata": {},
     "output_type": "execute_result"
    }
   ],
   "source": [
    "today = datetime.today()\n",
    "type(today)"
   ]
  },
  {
   "cell_type": "markdown",
   "metadata": {},
   "source": [
    "We can print that object and it appears intuitive (and very precise!)"
   ]
  },
  {
   "cell_type": "code",
   "execution_count": 27,
   "metadata": {},
   "outputs": [
    {
     "name": "stdout",
     "output_type": "stream",
     "text": [
      "2019-01-10 16:40:54.435637\n"
     ]
    }
   ],
   "source": [
    "print(today)"
   ]
  },
  {
   "cell_type": "markdown",
   "metadata": {},
   "source": [
    "And we can use the `strftime` method to convert our datetime object into various formats. The web site http://strftime.org/ offers a nice overview of the format objects "
   ]
  },
  {
   "cell_type": "code",
   "execution_count": 29,
   "metadata": {},
   "outputs": [
    {
     "data": {
      "text/plain": [
       "'2019-01-10'"
      ]
     },
     "execution_count": 29,
     "metadata": {},
     "output_type": "execute_result"
    }
   ],
   "source": [
    "#Formate the 'today' datetime object as a formatted string\n",
    "today.strftime('%Y-%m-%d')"
   ]
  },
  {
   "cell_type": "markdown",
   "metadata": {},
   "source": [
    "See if you can get it to print today's date as \"Thursday, January 01, 2019\""
   ]
  },
  {
   "cell_type": "code",
   "execution_count": 39,
   "metadata": {},
   "outputs": [
    {
     "data": {
      "text/plain": [
       "'Thursday, January 01, 2019'"
      ]
     },
     "execution_count": 39,
     "metadata": {},
     "output_type": "execute_result"
    }
   ],
   "source": [
    "today.strftime('%A, %B %m, %Y')"
   ]
  },
  {
   "cell_type": "markdown",
   "metadata": {},
   "source": [
    "Back to our task at hand"
   ]
  },
  {
   "cell_type": "code",
   "execution_count": 48,
   "metadata": {},
   "outputs": [
    {
     "data": {
      "text/plain": [
       "dtype('<M8[ns]')"
      ]
     },
     "execution_count": 48,
     "metadata": {},
     "output_type": "execute_result"
    }
   ],
   "source": [
    "#Convert our datetime string values to a datetime values \n",
    "newDate = pd.to_datetime(df_USGS['datetime'],format='%m/%d/%y')\n",
    "newDate.dtype"
   ]
  },
  {
   "cell_type": "markdown",
   "metadata": {},
   "source": [
    "Note that for every date prior to 1969, Python has assigned the date in the 2000s rather than the 1900s. This can be fixed with an `ifelse` statement inside a function. Run through the code below and write what is happening in the comment above each line."
   ]
  },
  {
   "cell_type": "code",
   "execution_count": 63,
   "metadata": {},
   "outputs": [
    {
     "data": {
      "text/plain": [
       "'280101'"
      ]
     },
     "execution_count": 63,
     "metadata": {},
     "output_type": "execute_result"
    }
   ],
   "source": [
    "newDate[0].strftime('%y%m%d') > 181231,"
   ]
  },
  {
   "cell_type": "code",
   "execution_count": 67,
   "metadata": {},
   "outputs": [],
   "source": [
    "x = newDate[0] \n",
    "#if x > today:"
   ]
  },
  {
   "cell_type": "code",
   "execution_count": 72,
   "metadata": {},
   "outputs": [
    {
     "data": {
      "text/plain": [
       "1928"
      ]
     },
     "execution_count": 72,
     "metadata": {},
     "output_type": "execute_result"
    }
   ],
   "source": [
    "x.year-100"
   ]
  },
  {
   "cell_type": "code",
   "execution_count": 77,
   "metadata": {},
   "outputs": [
    {
     "data": {
      "text/plain": [
       "Timestamp('1928-01-01 00:00:00')"
      ]
     },
     "execution_count": 77,
     "metadata": {},
     "output_type": "execute_result"
    }
   ],
   "source": [
    "x - timedelta(days=36525)"
   ]
  },
  {
   "cell_type": "code",
   "execution_count": 79,
   "metadata": {},
   "outputs": [],
   "source": [
    "newDate[newDate > today] = newDate - timedelta(days=36525)"
   ]
  },
  {
   "cell_type": "code",
   "execution_count": 80,
   "metadata": {},
   "outputs": [
    {
     "data": {
      "text/plain": [
       "0       1928-01-01\n",
       "1       1928-01-02\n",
       "2       1928-01-03\n",
       "3       1928-01-04\n",
       "4       1928-01-05\n",
       "5       1928-01-06\n",
       "6       1928-01-07\n",
       "7       1928-01-08\n",
       "8       1928-01-09\n",
       "9       1928-01-10\n",
       "10      1928-01-11\n",
       "11      1928-01-12\n",
       "12      1928-01-13\n",
       "13      1928-01-14\n",
       "14      1928-01-15\n",
       "15      1928-01-16\n",
       "16      1928-01-17\n",
       "17      1928-01-18\n",
       "18      1928-01-19\n",
       "19      1928-01-20\n",
       "20      1928-01-21\n",
       "21      1928-01-22\n",
       "22      1928-01-23\n",
       "23      1928-01-24\n",
       "24      1928-01-25\n",
       "25      1928-01-26\n",
       "26      1928-01-27\n",
       "27      1928-01-28\n",
       "28      1928-01-29\n",
       "29      1928-01-30\n",
       "           ...    \n",
       "33186   2018-11-10\n",
       "33187   2018-11-11\n",
       "33188   2018-11-12\n",
       "33189   2018-11-13\n",
       "33190   2018-11-14\n",
       "33191   2018-11-15\n",
       "33192   2018-11-16\n",
       "33193   2018-11-17\n",
       "33194   2018-11-18\n",
       "33195   2018-11-19\n",
       "33196   2018-11-20\n",
       "33197   2018-11-21\n",
       "33198   2018-11-22\n",
       "33199   2018-11-23\n",
       "33200   2018-11-24\n",
       "33201   2018-11-25\n",
       "33202   2018-11-26\n",
       "33203   2018-11-27\n",
       "33204   2018-11-28\n",
       "33205   2018-11-29\n",
       "33206   2018-11-30\n",
       "33207   2018-12-01\n",
       "33208   2018-12-02\n",
       "33209   2018-12-03\n",
       "33210   2018-12-04\n",
       "33211   2018-12-05\n",
       "33212   2018-12-06\n",
       "33213   2018-12-07\n",
       "33214   2018-12-08\n",
       "33215   2018-12-09\n",
       "Name: datetime, Length: 33216, dtype: datetime64[ns]"
      ]
     },
     "execution_count": 80,
     "metadata": {},
     "output_type": "execute_result"
    }
   ],
   "source": [
    "newDate"
   ]
  },
  {
   "cell_type": "code",
   "execution_count": null,
   "metadata": {},
   "outputs": [],
   "source": []
  }
 ],
 "metadata": {
  "kernelspec": {
   "display_name": "Python 3",
   "language": "python",
   "name": "python3"
  },
  "language_info": {
   "codemirror_mode": {
    "name": "ipython",
    "version": 3
   },
   "file_extension": ".py",
   "mimetype": "text/x-python",
   "name": "python",
   "nbconvert_exporter": "python",
   "pygments_lexer": "ipython3",
   "version": "3.6.6"
  }
 },
 "nbformat": 4,
 "nbformat_minor": 2
}

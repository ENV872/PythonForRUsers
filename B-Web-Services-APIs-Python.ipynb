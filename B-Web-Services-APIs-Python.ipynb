{
 "cells": [
  {
   "cell_type": "markdown",
   "metadata": {},
   "source": [
    "```\n",
    "Title: Web-Services-APIs-Python\n",
    "Author: John Fay for ENV872\n",
    "Date: Spring 2019\n",
    "```"
   ]
  },
  {
   "cell_type": "markdown",
   "metadata": {},
   "source": [
    "# Web Services and APIs with Python"
   ]
  },
  {
   "cell_type": "markdown",
   "metadata": {},
   "source": [
    "## Objectives for this lesson\n",
    "\n",
    "- Address programmatic data aquistion\n",
    "- Learn principles of web-services\n",
    "- Recognize vast opportunities of APIs"
   ]
  },
  {
   "cell_type": "markdown",
   "metadata": {},
   "source": [
    "## Specific achievements\n",
    "\n",
    "- Programatically acquire data embedded in a web page\n",
    "- Request data through a REST API\n",
    "- Use the [census](https://pypi.python.org/pypi/census) package to acquire data"
   ]
  },
  {
   "cell_type": "markdown",
   "metadata": {},
   "source": [
    "## Why script data acquistion?\n",
    "\n",
    "- Too time intensive to aquire manually\n",
    "- Update or reuse for new data\n",
    "- Reproducibility\n",
    "- Only available through an Application Programming Interface (API)"
   ]
  },
  {
   "cell_type": "markdown",
   "metadata": {},
   "source": [
    "## Tiers of access to online data\n",
    "\n",
    "- **Scraping:** download static data displayed on a webpage for people\n",
    "- **REST API:** send HTTP requests for data using a URI following the providers documentation\n",
    "- **Specialized Package** import a \"wrapper\" created by a data provider"
   ]
  },
  {
   "cell_type": "markdown",
   "metadata": {},
   "source": [
    "## Requests\n",
    "\n",
    "That  \"http\" at the beginning of the URL for a possible data source is a  protocol—an understanding between a client and a server about how to  communicate. The client does not have to be a web browser, so long as it  knows the protocol.\n",
    "\n",
    " "
   ]
  },
  {
   "cell_type": "code",
   "execution_count": null,
   "metadata": {},
   "outputs": [],
   "source": [
    "import requests\n",
    "from bs4 import BeautifulSoup\n",
    "import re\n",
    "\n",
    "#Scrape the web content of the url into a requests object called \"response\"\n",
    "response = requests.get('https://www.ncwater.org/WUDC/app/WWATR/report/view/0004-0001/2020')\n",
    "#Use \"Beautiful Soup\" to parse the raw response into a search-able object\n",
    "doc = BeautifulSoup(response.text, 'lxml')"
   ]
  },
  {
   "cell_type": "code",
   "execution_count": null,
   "metadata": {},
   "outputs": [],
   "source": [
    "#Reveal the datatype of the \"doc\" object\n",
    "type(doc)"
   ]
  },
  {
   "cell_type": "code",
   "execution_count": null,
   "metadata": {},
   "outputs": [],
   "source": [
    "the_registrant = doc.select('.table tr:nth-child(1) td:nth-child(2)')[0].text\n",
    "print(the_registrant)"
   ]
  },
  {
   "cell_type": "code",
   "execution_count": null,
   "metadata": {},
   "outputs": [],
   "source": [
    "the_facility =  doc.select('tr:nth-child(2) .left~ .left+ td.left')[0].text\n",
    "print(the_facility)"
   ]
  },
  {
   "cell_type": "code",
   "execution_count": null,
   "metadata": {},
   "outputs": [],
   "source": [
    "avg_withdrawals = doc.select('.table:nth-child(7) td:nth-child(7) , .table:nth-child(7) td:nth-child(3)')\n",
    "[mgd.text for mgd in avg_withdrawals]"
   ]
  },
  {
   "cell_type": "markdown",
   "metadata": {},
   "source": [
    "## Range of complexity\n",
    "\n",
    "Pages designed for humans are increasingly harder to parse programmatically.\n",
    "\n",
    "- Servers provide different responses based on client's \"metadata\"\n",
    "- Javascript often needs to be executed by the client\n",
    "- The html `<table>` is drifting into obscurity (mostly for the better)"
   ]
  },
  {
   "cell_type": "markdown",
   "metadata": {},
   "source": [
    "### HTML Tables\n",
    "\n",
    "Sites  with easilly accessible html tables nowadays are often geared toward  non-human agents. Here we'll examine how to extract a table from a wikipedia page:\n",
    "<https://en.wikipedia.org/wiki/World_Happiness_Report>"
   ]
  },
  {
   "cell_type": "code",
   "execution_count": null,
   "metadata": {},
   "outputs": [],
   "source": [
    "#Here, the read_html function pulls into a list object any table in the URL we provide.\n",
    "tableList = pd.read_html('https://en.wikipedia.org/wiki/World_Happiness_Report',header=0)\n",
    "print (\"{} tables were found\".format(len(tableList)))"
   ]
  },
  {
   "cell_type": "code",
   "execution_count": null,
   "metadata": {},
   "outputs": [],
   "source": [
    "#Let's grab the 6th table one and display it's firt five rows\n",
    "df = tableList[5]\n",
    "df.head()"
   ]
  },
  {
   "cell_type": "code",
   "execution_count": null,
   "metadata": {},
   "outputs": [],
   "source": [
    "#Here is as quick preview of pandas' plotting capability\n",
    "%matplotlib inline\n",
    "df.plot.scatter(x='Social support',y='Healthy life expectancy');"
   ]
  },
  {
   "cell_type": "markdown",
   "metadata": {},
   "source": [
    "### REST API\n",
    "The US Census Burea provides access to its vast stores of demographic data via their API at <https://api.census.gov>.\n",
    "\n",
    "The **I** in **API** is the entry point  into an application: it's the steering wheel and dashboard for whatever  more or less complicated vehicle you're driving. In the case of the  Census, the main component of the application is a relational database  management system. There are probabably several **GUI**s designed for human readers; the Census API is meant for communication between your software and their application."
   ]
  },
  {
   "cell_type": "markdown",
   "metadata": {},
   "source": [
    "In a REST API, the already universal system for transferring data  over the internet between applications (a web server and your browser)  called `http` is half of the interface. From there we just need documentation for how to construct the URL in a standards compliant way.\n",
    "\n",
    "<https://api.census.gov/data/2015/acs5?get=NAME,AIANHH&for=county&in=state:24#irrelevant>\n",
    "\n",
    "| Section           | Description                                                  |\n",
    "| ----------------- | ------------------------------------------------------------ |\n",
    "| `https://`        | scheme                                                       |\n",
    "| `api.census.gov`  | authority, or simply host if there's no user authentication  |\n",
    "| `/data/2015/acs5` | path to a resource within a hierarchy                        |\n",
    "| `?`               | beginning of the \"query\" component of a URL                  |\n",
    "| `get=NAME,AIANHH` | first query parameter                                        |\n",
    "| `&`               | query parameter separator                                    |\n",
    "| `for=county`      | second query parameter                                       |\n",
    "| `&`               | query parameter separator                                    |\n",
    "| `in=state:*`      | third query parameter                                        |\n",
    "| `#`               | beginning of the \"fragment\" component of a URL               |\n",
    "| `irrelevant`      | the fragment is a client side pointer, it isn't even sent to the server |"
   ]
  },
  {
   "cell_type": "code",
   "execution_count": null,
   "metadata": {},
   "outputs": [],
   "source": [
    "path = 'https://api.census.gov/data/2015/acs5'\n",
    "query = {'get':'NAME,AIANHH', 'for':'county', 'in':'state:24'}\n",
    "response = requests.get(path, params=query)"
   ]
  },
  {
   "cell_type": "markdown",
   "metadata": {},
   "source": [
    "## Interpretting the response\n",
    "\n",
    "The response from the API is a bunch of `0`s and `1`s, but part of the HTTP protocol is to include a \"header\" with information about reading the body.\n",
    "\n",
    "Most REST APIs return:\n",
    "\n",
    "- Javascript Object Notation (JSON)\n",
    "  - a UTF-8 encoded string of key-value pairs, where values may be lists\n",
    "  - e.g. `{'a':24, 'b':['x', 'y', 'z']}`\n",
    "- eXtensible Markup Language (XML)\n",
    "  - hierarchy of `<tag></tag>`s that do the same thing "
   ]
  },
  {
   "cell_type": "code",
   "execution_count": null,
   "metadata": {},
   "outputs": [],
   "source": [
    "for k, v in response.headers.items():\n",
    "    print('{}\\t{}'.format(k, v))"
   ]
  },
  {
   "cell_type": "code",
   "execution_count": null,
   "metadata": {},
   "outputs": [],
   "source": [
    "data = pd.read_json(response.content)"
   ]
  },
  {
   "cell_type": "code",
   "execution_count": null,
   "metadata": {},
   "outputs": [],
   "source": [
    "data"
   ]
  },
  {
   "cell_type": "markdown",
   "metadata": {},
   "source": [
    "## API Keys & Limits\n",
    "Most servers request good behavior, others enforce it.\n",
    "\n",
    "- Size of single query\n",
    "- Rate of queries (calls per second, or per day)\n",
    "- User credentials specified by an API key"
   ]
  },
  {
   "cell_type": "markdown",
   "metadata": {},
   "source": [
    "## From the Census Bureau\n",
    "\n",
    "> [**What Are the Query Limits?**](https://www.census.gov/data/developers/guidance/api-user-guide.Query_Components.html)\n",
    ">\n",
    "> You can include up to 50 variables in a single API query and can make  up to 500 queries per IP address per day. More than 500 queries per IP  address per day requires that you [register for a Census key](https://www.census.gov/developers/). That key will be part of your data request URL string.\n",
    ">\n",
    "> Please keep in mind that all queries from a business or organization  having multiple employees might employ a proxy service or firewall. This  will make all of the users of that business or organization appear to  have the same IP address.  If multiple employees were making queries,  the 500-query limit would be for the proxy server/firewall, not the  individual user."
   ]
  },
  {
   "cell_type": "markdown",
   "metadata": {},
   "source": [
    "## Specialized Packages\n",
    "\n",
    "The  third tier of access to online data is the most convenient, if it  exists. The data provider may also maintain a package in your  programming languages repository ([PyPI](http://pypi.python.org) or [CRAN](http://cran.r-project.org)).\n",
    "\n",
    "- Additional guidance on query parameters\n",
    "- Returns data in native formats\n",
    "- Handles all \"encoding\" problems"
   ]
  },
  {
   "cell_type": "code",
   "execution_count": null,
   "metadata": {},
   "outputs": [],
   "source": [
    "#See if the Census package is installed\n",
    "import Census"
   ]
  },
  {
   "cell_type": "markdown",
   "metadata": {},
   "source": [
    "If you get an error \"no module named 'Census'\", we need to install it. From our container, we can use `pip` to install packages. This is a shell command so we preceed it with `!`"
   ]
  },
  {
   "cell_type": "code",
   "execution_count": null,
   "metadata": {},
   "outputs": [],
   "source": [
    "#If you get an error above, install the Census package using pip\n",
    "!pip install Census"
   ]
  },
  {
   "cell_type": "code",
   "execution_count": null,
   "metadata": {},
   "outputs": [],
   "source": [
    "from census import Census\n",
    "key = None\n",
    "c = Census(key, year=2015)"
   ]
  },
  {
   "cell_type": "code",
   "execution_count": null,
   "metadata": {},
   "outputs": [],
   "source": [
    "variables = ('NAME', 'B19001_001E')\n",
    "params = {'for':'tract:*', 'in':'state:24'}\n",
    "response = c.acs5.get(variables, params)\n",
    "response = pd.DataFrame(response)\n",
    "response.dtypes"
   ]
  },
  {
   "cell_type": "markdown",
   "metadata": {},
   "source": [
    "#### Plot with Plotnine/ggplot"
   ]
  },
  {
   "cell_type": "code",
   "execution_count": null,
   "metadata": {},
   "outputs": [],
   "source": [
    "#Install plotnine (install if needed)\n",
    "try: \n",
    "    from plotnine import *\n",
    "except:\n",
    "    !pip install plotnine\n",
    "    from plotnine import *"
   ]
  },
  {
   "cell_type": "code",
   "execution_count": null,
   "metadata": {},
   "outputs": [],
   "source": [
    "response[variables[1]] = pd.to_numeric(response[variables[1]])\n",
    "(ggplot(response, aes(x = 'county', y = variables[1])) + gg.geom_boxplot())"
   ]
  }
 ],
 "metadata": {
  "kernelspec": {
   "display_name": "Python 3",
   "language": "python",
   "name": "python3"
  },
  "language_info": {
   "codemirror_mode": {
    "name": "ipython",
    "version": 3
   },
   "file_extension": ".py",
   "mimetype": "text/x-python",
   "name": "python",
   "nbconvert_exporter": "python",
   "pygments_lexer": "ipython3",
   "version": "3.7.9"
  }
 },
 "nbformat": 4,
 "nbformat_minor": 4
}

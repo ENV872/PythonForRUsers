{
 "cells": [
  {
   "cell_type": "markdown",
   "id": "ec862c3e-cae3-45e4-a724-dfa65b405bbe",
   "metadata": {},
   "source": [
    "## Getting Started with Python\n",
    "```\n",
    "Name: Your_name\n",
    "Class: ENV 872 - Environmental Data Analytics\n",
    "Date: Spring 2024\n",
    "```"
   ]
  },
  {
   "cell_type": "markdown",
   "id": "04be80ec-9502-4935-9d80-90bc6473f584",
   "metadata": {},
   "source": [
    "### Instructions\n",
    "* Edit the markdown cell above to change `Your_name` to your name\n",
    "* Complete the code cells below as instructed\n",
    "* When complete, select \"Save And Export Notebook As..\" from the \"File\" menu and the save as an HTML file. \n",
    "* Submit the HTML file to Sakai."
   ]
  },
  {
   "cell_type": "markdown",
   "id": "a35eb886-bd2c-41a2-b40f-fe5015250fdb",
   "metadata": {},
   "source": [
    "### 1. Working with variables and values"
   ]
  },
  {
   "cell_type": "markdown",
   "id": "ed24cb40-c906-4eff-a2ed-e60599b6f064",
   "metadata": {},
   "source": [
    "1. In the code cell below, create and assign values to the following 4 variables:\n",
    "\n",
    "| Variable | Value |\n",
    "| --- | --- |\n",
    "| TreeID | 101 |\n",
    "| Species | Oak |\n",
    "| Height | 15.5 | \n",
    "| Planted | False |"
   ]
  },
  {
   "cell_type": "code",
   "execution_count": 1,
   "id": "0e730951-ba42-4349-a873-bcf57b4c3f17",
   "metadata": {},
   "outputs": [],
   "source": [
    "#Create the four variables\n"
   ]
  },
  {
   "cell_type": "markdown",
   "id": "1d8cafdb-8870-46c7-a1b5-9ad0cf5e60f4",
   "metadata": {},
   "source": [
    "2. In the 4 code cells below, display the *type* of each variable (one per code cell)"
   ]
  },
  {
   "cell_type": "code",
   "execution_count": 2,
   "id": "9d3737b3-35fe-487d-9a85-738b53222aa8",
   "metadata": {},
   "outputs": [
    {
     "data": {
      "text/plain": [
       "int"
      ]
     },
     "execution_count": 2,
     "metadata": {},
     "output_type": "execute_result"
    }
   ],
   "source": [
    "#Show the type of the TreeID variable\n"
   ]
  },
  {
   "cell_type": "code",
   "execution_count": 3,
   "id": "adf7cd91-d943-44cb-9ea6-45e86136ede7",
   "metadata": {},
   "outputs": [
    {
     "data": {
      "text/plain": [
       "str"
      ]
     },
     "execution_count": 3,
     "metadata": {},
     "output_type": "execute_result"
    }
   ],
   "source": [
    "#Show the type of the Species variable\n"
   ]
  },
  {
   "cell_type": "code",
   "execution_count": 4,
   "id": "c1d3e63f-510b-4425-ab91-cf655edfbc10",
   "metadata": {},
   "outputs": [
    {
     "data": {
      "text/plain": [
       "float"
      ]
     },
     "execution_count": 4,
     "metadata": {},
     "output_type": "execute_result"
    }
   ],
   "source": [
    "#Show the type of the Height variable\n"
   ]
  },
  {
   "cell_type": "code",
   "execution_count": 5,
   "id": "0be3c639-77e4-4304-82f7-f25f8c48e516",
   "metadata": {},
   "outputs": [
    {
     "data": {
      "text/plain": [
       "bool"
      ]
     },
     "execution_count": 5,
     "metadata": {},
     "output_type": "execute_result"
    }
   ],
   "source": [
    "#Show the type of the Planted variable\n"
   ]
  },
  {
   "cell_type": "markdown",
   "id": "88b98021-b2c3-48f4-881c-57b1d90c00da",
   "metadata": {},
   "source": [
    "3. Below are two code cells. The first [provided] creates a list of metrics for \"Tree A\". In the second code cell, combine the four variables created in Step 2 into a single list object named `tree_B`"
   ]
  },
  {
   "cell_type": "code",
   "execution_count": 6,
   "id": "e0368b64-8b27-4a7b-b1c9-3a4fad3caadf",
   "metadata": {},
   "outputs": [],
   "source": [
    "#Create a list describing Tree \"A\"\n",
    "tree_A = [104,\"Elm\",12.1,True]"
   ]
  },
  {
   "cell_type": "code",
   "execution_count": 7,
   "id": "fe0056de-e614-4868-ae73-a91e4c5e9fa7",
   "metadata": {},
   "outputs": [],
   "source": [
    "#Create a list describing Tree \"B\" -- using the variables created above\n"
   ]
  },
  {
   "cell_type": "markdown",
   "id": "958c76ee-3c02-4d71-bb2b-a405bcf5609b",
   "metadata": {},
   "source": [
    "4. Extract the height of tree B from tree A by first extracting the 3rd item from each list into their own variables and then using a comparative operator to evaluate whether Tree \"A\" is taller than Tree \"B\". "
   ]
  },
  {
   "cell_type": "code",
   "execution_count": 8,
   "id": "d72ba255-ca93-4330-bd03-d823d45808a8",
   "metadata": {},
   "outputs": [],
   "source": [
    "#Extract the height from the list for Tree \"A\"\n"
   ]
  },
  {
   "cell_type": "code",
   "execution_count": 9,
   "id": "12d96519-909a-4a81-bab0-cfb957c333f9",
   "metadata": {},
   "outputs": [],
   "source": [
    "#Extract the height from the list for Tree \"A\"\n"
   ]
  },
  {
   "cell_type": "code",
   "execution_count": 10,
   "id": "ac76f5b0-e9f7-4ab2-a8f2-aedc85f63dc3",
   "metadata": {},
   "outputs": [
    {
     "data": {
      "text/plain": [
       "False"
      ]
     },
     "execution_count": 10,
     "metadata": {},
     "output_type": "execute_result"
    }
   ],
   "source": [
    "#Evaluate whether Tree \"A\" is taller than Tree \"B\"\n"
   ]
  },
  {
   "cell_type": "markdown",
   "id": "c16c5064-a06e-4cbc-89cc-22399221f13b",
   "metadata": {},
   "source": [
    "### 2. Working with data using NumPy and Pandas"
   ]
  },
  {
   "cell_type": "markdown",
   "id": "3b8f5ea1-bfca-4c57-840f-861d4877a3a7",
   "metadata": {},
   "source": [
    "#### 2a. Importing the packages"
   ]
  },
  {
   "cell_type": "code",
   "execution_count": 11,
   "id": "6c2b1a18-48b3-4190-ae0f-0e3a47e4df8a",
   "metadata": {},
   "outputs": [],
   "source": [
    "#Import the numpy package, calling it \"np\"\n",
    "import numpy as np"
   ]
  },
  {
   "cell_type": "code",
   "execution_count": 12,
   "id": "d8e4f0d4-71b7-4e98-be98-d663f6dccf33",
   "metadata": {},
   "outputs": [
    {
     "name": "stderr",
     "output_type": "stream",
     "text": [
      "/opt/conda/lib/python3.9/site-packages/pandas/core/computation/expressions.py:21: UserWarning: Pandas requires version '2.8.4' or newer of 'numexpr' (version '2.8.3' currently installed).\n",
      "  from pandas.core.computation.check import NUMEXPR_INSTALLED\n"
     ]
    }
   ],
   "source": [
    "#Import the pandas package, calling it \"pd\"\n"
   ]
  },
  {
   "cell_type": "markdown",
   "id": "8a9466c1-fb6f-4a55-aa54-dcad40b69879",
   "metadata": {},
   "source": [
    "#### 2b. Creating and using Numpy arrays"
   ]
  },
  {
   "cell_type": "code",
   "execution_count": 13,
   "id": "f859dcfc-13e2-4cea-97c4-e1cc9f123af9",
   "metadata": {},
   "outputs": [],
   "source": [
    "#Create a vector of tree height values, in meters\n",
    "height_meters = np.array([2.1, 3.2, 5.6, 2.2, 3.1])"
   ]
  },
  {
   "cell_type": "code",
   "execution_count": 14,
   "id": "612664db-a7fa-4d17-8910-2e9437f6b874",
   "metadata": {},
   "outputs": [
    {
     "data": {
      "text/plain": [
       "3.2400000000000007"
      ]
     },
     "execution_count": 14,
     "metadata": {},
     "output_type": "execute_result"
    }
   ],
   "source": [
    "#Compute the mean height in meters\n",
    "np.mean(height_meters)"
   ]
  },
  {
   "cell_type": "code",
   "execution_count": 15,
   "id": "32551afe-d00a-44a0-93cb-e5390a9b4c99",
   "metadata": {},
   "outputs": [],
   "source": [
    "#Convert the values to cm\n"
   ]
  },
  {
   "cell_type": "code",
   "execution_count": 16,
   "id": "ff57ef16-1f8c-4d41-8078-f7022e57851b",
   "metadata": {},
   "outputs": [
    {
     "data": {
      "text/plain": [
       "310.0"
      ]
     },
     "execution_count": 16,
     "metadata": {},
     "output_type": "execute_result"
    }
   ],
   "source": [
    "#Compute the median height in cm\n"
   ]
  },
  {
   "cell_type": "markdown",
   "id": "d18e0160-210a-4962-b920-a032d9b27284",
   "metadata": {},
   "source": [
    "► There are 39.37 inches in a meter. What is the median height of trees, in inches?"
   ]
  },
  {
   "cell_type": "code",
   "execution_count": 17,
   "id": "8f02cae1-64f4-487d-85f4-1b001d7815e3",
   "metadata": {},
   "outputs": [],
   "source": [
    "#Convert matrix values from cm to inches\n"
   ]
  },
  {
   "cell_type": "code",
   "execution_count": 18,
   "id": "055b2665-e748-4e53-a984-d1d2b239c0f8",
   "metadata": {},
   "outputs": [
    {
     "data": {
      "text/plain": [
       "122.047"
      ]
     },
     "execution_count": 18,
     "metadata": {},
     "output_type": "execute_result"
    }
   ],
   "source": [
    "#Compute the median of the heights in inches\n"
   ]
  },
  {
   "cell_type": "markdown",
   "id": "310d75a2-e624-4330-b32d-96f33812a3de",
   "metadata": {},
   "source": [
    "#### 2c. Working with dataframes in Pandas"
   ]
  },
  {
   "cell_type": "code",
   "execution_count": 19,
   "id": "020f226a-9874-4d49-8a5d-1e3e79d62b99",
   "metadata": {},
   "outputs": [],
   "source": [
    "#Read the USGS dataset into a dataframe object\n",
    "NTL_LTER = pd.read_csv(\"./data/Processed_KEY/NTL-LTER_Lake_ChemistryPhysics_PeterPaul_Processed.csv\")"
   ]
  },
  {
   "cell_type": "code",
   "execution_count": 20,
   "id": "618fc95b-a79f-41eb-8967-90109c430e96",
   "metadata": {},
   "outputs": [
    {
     "data": {
      "text/html": [
       "<div>\n",
       "<style scoped>\n",
       "    .dataframe tbody tr th:only-of-type {\n",
       "        vertical-align: middle;\n",
       "    }\n",
       "\n",
       "    .dataframe tbody tr th {\n",
       "        vertical-align: top;\n",
       "    }\n",
       "\n",
       "    .dataframe thead th {\n",
       "        text-align: right;\n",
       "    }\n",
       "</style>\n",
       "<table border=\"1\" class=\"dataframe\">\n",
       "  <thead>\n",
       "    <tr style=\"text-align: right;\">\n",
       "      <th></th>\n",
       "      <th>lakeid</th>\n",
       "      <th>lakename</th>\n",
       "      <th>year4</th>\n",
       "      <th>daynum</th>\n",
       "      <th>month</th>\n",
       "      <th>sampledate</th>\n",
       "      <th>depth</th>\n",
       "      <th>temperature_C</th>\n",
       "      <th>dissolvedOxygen</th>\n",
       "      <th>irradianceWater</th>\n",
       "      <th>irradianceDeck</th>\n",
       "      <th>comments</th>\n",
       "    </tr>\n",
       "  </thead>\n",
       "  <tbody>\n",
       "    <tr>\n",
       "      <th>0</th>\n",
       "      <td>L</td>\n",
       "      <td>Paul Lake</td>\n",
       "      <td>1984</td>\n",
       "      <td>148</td>\n",
       "      <td>5</td>\n",
       "      <td>1984-05-27</td>\n",
       "      <td>0.00</td>\n",
       "      <td>14.5</td>\n",
       "      <td>9.5</td>\n",
       "      <td>1750.0</td>\n",
       "      <td>1620.0</td>\n",
       "      <td>NaN</td>\n",
       "    </tr>\n",
       "    <tr>\n",
       "      <th>1</th>\n",
       "      <td>L</td>\n",
       "      <td>Paul Lake</td>\n",
       "      <td>1984</td>\n",
       "      <td>148</td>\n",
       "      <td>5</td>\n",
       "      <td>1984-05-27</td>\n",
       "      <td>0.25</td>\n",
       "      <td>NaN</td>\n",
       "      <td>NaN</td>\n",
       "      <td>1550.0</td>\n",
       "      <td>1620.0</td>\n",
       "      <td>NaN</td>\n",
       "    </tr>\n",
       "    <tr>\n",
       "      <th>2</th>\n",
       "      <td>L</td>\n",
       "      <td>Paul Lake</td>\n",
       "      <td>1984</td>\n",
       "      <td>148</td>\n",
       "      <td>5</td>\n",
       "      <td>1984-05-27</td>\n",
       "      <td>0.50</td>\n",
       "      <td>NaN</td>\n",
       "      <td>NaN</td>\n",
       "      <td>1150.0</td>\n",
       "      <td>1620.0</td>\n",
       "      <td>NaN</td>\n",
       "    </tr>\n",
       "    <tr>\n",
       "      <th>3</th>\n",
       "      <td>L</td>\n",
       "      <td>Paul Lake</td>\n",
       "      <td>1984</td>\n",
       "      <td>148</td>\n",
       "      <td>5</td>\n",
       "      <td>1984-05-27</td>\n",
       "      <td>0.75</td>\n",
       "      <td>NaN</td>\n",
       "      <td>NaN</td>\n",
       "      <td>975.0</td>\n",
       "      <td>1620.0</td>\n",
       "      <td>NaN</td>\n",
       "    </tr>\n",
       "    <tr>\n",
       "      <th>4</th>\n",
       "      <td>L</td>\n",
       "      <td>Paul Lake</td>\n",
       "      <td>1984</td>\n",
       "      <td>148</td>\n",
       "      <td>5</td>\n",
       "      <td>1984-05-27</td>\n",
       "      <td>1.00</td>\n",
       "      <td>14.5</td>\n",
       "      <td>8.8</td>\n",
       "      <td>870.0</td>\n",
       "      <td>1620.0</td>\n",
       "      <td>NaN</td>\n",
       "    </tr>\n",
       "  </tbody>\n",
       "</table>\n",
       "</div>"
      ],
      "text/plain": [
       "  lakeid   lakename  year4  daynum  month  sampledate  depth  temperature_C  \\\n",
       "0      L  Paul Lake   1984     148      5  1984-05-27   0.00           14.5   \n",
       "1      L  Paul Lake   1984     148      5  1984-05-27   0.25            NaN   \n",
       "2      L  Paul Lake   1984     148      5  1984-05-27   0.50            NaN   \n",
       "3      L  Paul Lake   1984     148      5  1984-05-27   0.75            NaN   \n",
       "4      L  Paul Lake   1984     148      5  1984-05-27   1.00           14.5   \n",
       "\n",
       "   dissolvedOxygen  irradianceWater  irradianceDeck comments  \n",
       "0              9.5           1750.0          1620.0      NaN  \n",
       "1              NaN           1550.0          1620.0      NaN  \n",
       "2              NaN           1150.0          1620.0      NaN  \n",
       "3              NaN            975.0          1620.0      NaN  \n",
       "4              8.8            870.0          1620.0      NaN  "
      ]
     },
     "execution_count": 20,
     "metadata": {},
     "output_type": "execute_result"
    }
   ],
   "source": [
    "#View the first 5 records\n"
   ]
  },
  {
   "cell_type": "markdown",
   "id": "1bd06471-a404-4d8b-8dac-fab0ce7b11c1",
   "metadata": {},
   "source": [
    "Examine characteristics of our dataframe..."
   ]
  },
  {
   "cell_type": "code",
   "execution_count": 21,
   "id": "f07b3938-f602-4548-b169-4f9381b718fe",
   "metadata": {},
   "outputs": [
    {
     "data": {
      "text/plain": [
       "pandas.core.frame.DataFrame"
      ]
     },
     "execution_count": 21,
     "metadata": {},
     "output_type": "execute_result"
    }
   ],
   "source": [
    "#Display the data type of our NLT_LTER object\n"
   ]
  },
  {
   "cell_type": "code",
   "execution_count": 22,
   "id": "ec92ed04-c8ac-4185-a73c-8be79d02fb71",
   "metadata": {},
   "outputs": [
    {
     "data": {
      "text/plain": [
       "Index(['lakeid', 'lakename', 'year4', 'daynum', 'month', 'sampledate', 'depth',\n",
       "       'temperature_C', 'dissolvedOxygen', 'irradianceWater', 'irradianceDeck',\n",
       "       'comments'],\n",
       "      dtype='object')"
      ]
     },
     "execution_count": 22,
     "metadata": {},
     "output_type": "execute_result"
    }
   ],
   "source": [
    "#Reveal the column names \n"
   ]
  },
  {
   "cell_type": "code",
   "execution_count": 23,
   "id": "877cc7fb-2b06-43f3-81cc-72704db322e3",
   "metadata": {},
   "outputs": [
    {
     "name": "stdout",
     "output_type": "stream",
     "text": [
      "<class 'pandas.core.frame.DataFrame'>\n",
      "RangeIndex: 21613 entries, 0 to 21612\n",
      "Data columns (total 12 columns):\n",
      " #   Column           Non-Null Count  Dtype  \n",
      "---  ------           --------------  -----  \n",
      " 0   lakeid           21613 non-null  object \n",
      " 1   lakename         21613 non-null  object \n",
      " 2   year4            21613 non-null  int64  \n",
      " 3   daynum           21613 non-null  int64  \n",
      " 4   month            21613 non-null  int64  \n",
      " 5   sampledate       21613 non-null  object \n",
      " 6   depth            21613 non-null  float64\n",
      " 7   temperature_C    19442 non-null  float64\n",
      " 8   dissolvedOxygen  19342 non-null  float64\n",
      " 9   irradianceWater  15451 non-null  float64\n",
      " 10  irradianceDeck   14626 non-null  float64\n",
      " 11  comments         244 non-null    object \n",
      "dtypes: float64(5), int64(3), object(4)\n",
      "memory usage: 2.0+ MB\n"
     ]
    }
   ],
   "source": [
    "#Reveal the structure of our dataframe\n"
   ]
  },
  {
   "cell_type": "code",
   "execution_count": 24,
   "id": "e8f99e3f-e873-46e7-8e78-19226cc45d7b",
   "metadata": {},
   "outputs": [
    {
     "data": {
      "text/plain": [
       "(21613, 12)"
      ]
     },
     "execution_count": 24,
     "metadata": {},
     "output_type": "execute_result"
    }
   ],
   "source": [
    "#Reveal the dimensions of our dataframe\n"
   ]
  },
  {
   "cell_type": "code",
   "execution_count": 25,
   "id": "c158f044-d3c7-412f-888b-5bb2cfa12642",
   "metadata": {},
   "outputs": [
    {
     "data": {
      "text/plain": [
       "lakename\n",
       "Peter Lake    11288\n",
       "Paul Lake     10325\n",
       "Name: count, dtype: int64"
      ]
     },
     "execution_count": 25,
     "metadata": {},
     "output_type": "execute_result"
    }
   ],
   "source": [
    "#Use the `value_counts()` function to reveal how many records correspond to unique values in the `lakename` column.\n"
   ]
  },
  {
   "cell_type": "markdown",
   "id": "ab07e46d-ede1-4e2f-b572-0396edfba9ca",
   "metadata": {},
   "source": [
    "Check our date column and set it to a datetime object"
   ]
  },
  {
   "cell_type": "code",
   "execution_count": 26,
   "id": "c5e4a70f-9565-4776-bafc-2f3801d018b1",
   "metadata": {},
   "outputs": [
    {
     "data": {
      "text/plain": [
       "dtype('O')"
      ]
     },
     "execution_count": 26,
     "metadata": {},
     "output_type": "execute_result"
    }
   ],
   "source": [
    "#Reveal datatype of the sampledate column\n"
   ]
  },
  {
   "cell_type": "code",
   "execution_count": 27,
   "id": "b6427996-ac69-4e76-9788-172f86bcc10d",
   "metadata": {},
   "outputs": [],
   "source": [
    "#Change it to a proper datetime object\n"
   ]
  },
  {
   "cell_type": "code",
   "execution_count": 28,
   "id": "8b3c9cc4-62b8-4326-9c20-41559b6f2096",
   "metadata": {
    "tags": []
   },
   "outputs": [
    {
     "data": {
      "text/plain": [
       "dtype('<M8[ns]')"
      ]
     },
     "execution_count": 28,
     "metadata": {},
     "output_type": "execute_result"
    }
   ],
   "source": [
    "#Reveal datatype of the datetime column\n"
   ]
  },
  {
   "cell_type": "markdown",
   "id": "d6770a01-b74f-43bd-83ad-97cd56b2a56b",
   "metadata": {},
   "source": [
    "### 3. Plotting with Plotnine/ggplot"
   ]
  },
  {
   "cell_type": "code",
   "execution_count": 29,
   "id": "d5a0143d-4285-42bd-8c35-739268b448c9",
   "metadata": {},
   "outputs": [],
   "source": [
    "#Install plotnine (install if needed)\n",
    "try: \n",
    "    from plotnine import *\n",
    "except:\n",
    "    !pip install plotnine\n",
    "    from plotnine import *"
   ]
  },
  {
   "cell_type": "code",
   "execution_count": 30,
   "id": "7f98bec6-771a-4502-954a-f7a541bf7e3f",
   "metadata": {},
   "outputs": [
    {
     "data": {
      "image/png": "[encoded data removed]"
     },
     "metadata": {
      "image/png": {
       "height": 172,
       "width": 230
      }
     },
     "output_type": "display_data"
    }
   ],
   "source": [
    "#Create a bar plot of temperature by lakename\n"
   ]
  },
  {
   "cell_type": "code",
   "execution_count": 31,
   "id": "a6c28a03-c87d-4dbd-990f-5271a67bd65e",
   "metadata": {},
   "outputs": [
    {
     "name": "stderr",
     "output_type": "stream",
     "text": [
      "/opt/conda/lib/python3.9/site-packages/plotnine/layer.py:284: PlotnineWarning: stat_bin : Removed 2171 rows containing non-finite values.\n"
     ]
    },
    {
     "data": {
      "image/png": "[encoded data removed]"
     },
     "metadata": {
      "image/png": {
       "height": 480,
       "width": 640
      }
     },
     "output_type": "display_data"
    }
   ],
   "source": [
    "#Create a histogram of temperature values using 15 bins\n"
   ]
  },
  {
   "cell_type": "markdown",
   "id": "03f9907b-1c7d-47e4-b9c4-c933728a73c7",
   "metadata": {},
   "source": [
    "* Create a plot of irradiance of water vs depth, adding a regression line (geom_smooth) and scaling the y values from 0 to 2500. "
   ]
  },
  {
   "cell_type": "code",
   "execution_count": 32,
   "id": "bf1c5c38-305f-4cd3-9983-340c222b2e86",
   "metadata": {},
   "outputs": [
    {
     "name": "stderr",
     "output_type": "stream",
     "text": [
      "/opt/conda/lib/python3.9/site-packages/plotnine/layer.py:364: PlotnineWarning: geom_point : Removed 6163 rows containing missing values.\n",
      "/opt/conda/lib/python3.9/site-packages/plotnine/layer.py:364: PlotnineWarning: geom_smooth : Removed 46 rows containing missing values.\n"
     ]
    },
    {
     "data": {
      "image/png": "[encoded data removed]"
     },
     "metadata": {
      "image/png": {
       "height": 480,
       "width": 640
      }
     },
     "output_type": "display_data"
    }
   ],
   "source": [
    "#Create one more plot of your choosing\n"
   ]
  }
 ],
 "metadata": {
  "kernelspec": {
   "display_name": "Python 3 (ipykernel)",
   "language": "python",
   "name": "python3"
  },
  "language_info": {
   "codemirror_mode": {
    "name": "ipython",
    "version": 3
   },
   "file_extension": ".py",
   "mimetype": "text/x-python",
   "name": "python",
   "nbconvert_exporter": "python",
   "pygments_lexer": "ipython3",
   "version": "3.9.7"
  }
 },
 "nbformat": 4,
 "nbformat_minor": 5
}

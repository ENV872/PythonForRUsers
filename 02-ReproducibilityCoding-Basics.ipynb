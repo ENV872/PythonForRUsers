{
 "cells": [
  {
   "cell_type": "markdown",
   "id": "neural-aside",
   "metadata": {},
   "source": [
    "---\n",
    "title: \"2: Reproducibility and Coding Basics\"  \n",
    "author: \"Environmental Data Analytics | John Fay and Luana Lima | Developed by Kateri Salk\"   \n",
    "date: \"Spring 2021\"   \n",
    "---"
   ]
  },
  {
   "cell_type": "markdown",
   "id": "composed-lodging",
   "metadata": {},
   "source": [
    "# 2: Reproducibility & Coding Basics\n",
    "\n",
    "## Objectives\n",
    "\n",
    "1. Discuss the benefits and approach for reproducible data analysis\n",
    "2. Perform simple operations using Python coding syntax\n",
    "3. Call and create functions in Python"
   ]
  },
  {
   "cell_type": "markdown",
   "id": "starting-correspondence",
   "metadata": {},
   "source": [
    "## Reproducible Data Analysis\n",
    "\n",
    "### Fundamentals of reproducibility\n",
    "\n",
    "**Reproducibility**: when someone else (e.g., future self) can obtain the same outcomes from the same dataset and analysis\n",
    "\n",
    "* Raw data are always separate from processed data\n",
    "* Link data transformations with a reproducible pipeline\n",
    "* Raw datasets NEVER changed\n",
    "* Cleaning/transformations done through coding, not by editing within Excel\n",
    "* Edits documented by well-commented code\n",
    "* Majority of time spent in the data processing phase (clean, wrangle)\n",
    "\n",
    "### Rules and Conventions\n",
    "\n",
    "* Data stored in nonproprietary software (e.g., .csv, .md, .txt)\n",
    "* File names in ASCII text\n",
    "* No spaces!\n",
    "* Consistent file naming conventions\n",
    "* Store data, code, and output in separate folders\n",
    "\n",
    "### Version Control\n",
    "\n",
    "This semester, we will incorporate the fundamentals of **version control**, the process by which all changes to code, text, and files are tracked. In this manner, we're also able to maintain data and information to support collaborative projects, but to also make sure your analyses are preserved.\n",
    "\n",
    "Before coming to class, you were asked to create a GitHub.com account. **GitHub** is the web hosting platform for maintaining our Git repositories. Our version control system for the purposes of this course is **Git**. \n",
    "\n",
    "## JupyterLab Basics\n",
    "When you open your JupyterLab container, you will see the JupyterLab interface. Documentation on the interface is provided here:   \n",
    "<https://jupyterlab.readthedocs.io/en/stable/user/interface.html> \n",
    "\n",
    "## Jupyter Notebooks\n",
    "A Jupyter Notebook is an analog to an R Markdown document. It too can include text chunks and R code chunks that can be viewed together. A few unique aspects of notebooks over Rmd files are:\n",
    " * Notebooks are not knitted. Instead they can be run and then exported into various formats. Notebooks are more WSIWYG (what you see is what you get) than Rmd file.\n",
    " * All outputs are provided in the document itself; there is no separate console to which you can direct output. (Though you can certainly save files to your filesystem.)\n",
    " * Notebooks are organized into \"cells\" and cells are defined as either code cells or markdown cells. \n",
    "\n",
    "Pretty much, after a small learning curve, notebooks and the JuptyerLab interface should become fairly intuitive. So, rather than write all this down here, we'll do some hands-on work that will be recorded for your benefit..."
   ]
  },
  {
   "cell_type": "markdown",
   "id": "dominican-bouquet",
   "metadata": {},
   "source": [
    "## Python Coding basics\n",
    "\n",
    "### Python as a calculator\n",
    "Below is a code cell. You can run code cells in a few ways: \n",
    "* Click the ► button in the menu.\n",
    "* Hit <ctrl>-<enter> on your keyboard (or <cmd>-<click> on a Mac)\n",
    "    \n",
    "*→Note that you can't run single lines in Jupyter notebooks; you have the run the entire code cell*"
   ]
  },
  {
   "cell_type": "markdown",
   "id": "resident-express",
   "metadata": {},
   "source": [
    "##### Basic math"
   ]
  },
  {
   "cell_type": "code",
   "execution_count": 2,
   "id": "suitable-moral",
   "metadata": {},
   "outputs": [
    {
     "data": {
      "text/plain": [
       "2"
      ]
     },
     "execution_count": 2,
     "metadata": {},
     "output_type": "execute_result"
    }
   ],
   "source": [
    "1 + 1"
   ]
  },
  {
   "cell_type": "code",
   "execution_count": 3,
   "id": "sublime-format",
   "metadata": {},
   "outputs": [
    {
     "data": {
      "text/plain": [
       "0"
      ]
     },
     "execution_count": 3,
     "metadata": {},
     "output_type": "execute_result"
    }
   ],
   "source": [
    "1 - 1"
   ]
  },
  {
   "cell_type": "code",
   "execution_count": 4,
   "id": "loaded-chess",
   "metadata": {},
   "outputs": [
    {
     "data": {
      "text/plain": [
       "4"
      ]
     },
     "execution_count": 4,
     "metadata": {},
     "output_type": "execute_result"
    }
   ],
   "source": [
    "2 * 2"
   ]
  },
  {
   "cell_type": "code",
   "execution_count": 5,
   "id": "consecutive-empire",
   "metadata": {},
   "outputs": [
    {
     "data": {
      "text/plain": [
       "0.5"
      ]
     },
     "execution_count": 5,
     "metadata": {},
     "output_type": "execute_result"
    }
   ],
   "source": [
    "1 / 2"
   ]
  },
  {
   "cell_type": "code",
   "execution_count": 6,
   "id": "spectacular-birmingham",
   "metadata": {},
   "outputs": [
    {
     "data": {
      "text/plain": [
       "0.15"
      ]
     },
     "execution_count": 6,
     "metadata": {},
     "output_type": "execute_result"
    }
   ],
   "source": [
    "1 / 200 * 30"
   ]
  },
  {
   "cell_type": "code",
   "execution_count": 7,
   "id": "enhanced-express",
   "metadata": {},
   "outputs": [
    {
     "data": {
      "text/plain": [
       "11"
      ]
     },
     "execution_count": 7,
     "metadata": {},
     "output_type": "execute_result"
    }
   ],
   "source": [
    "5 + 2 * 3"
   ]
  },
  {
   "cell_type": "code",
   "execution_count": 1,
   "id": "typical-ethernet",
   "metadata": {},
   "outputs": [
    {
     "data": {
      "text/plain": [
       "21"
      ]
     },
     "execution_count": 1,
     "metadata": {},
     "output_type": "execute_result"
    }
   ],
   "source": [
    "(5 + 2) * 3"
   ]
  },
  {
   "cell_type": "markdown",
   "id": "southwest-hospital",
   "metadata": {},
   "source": [
    "##### Common terms"
   ]
  },
  {
   "cell_type": "code",
   "execution_count": 8,
   "id": "careful-sister",
   "metadata": {},
   "outputs": [
    {
     "data": {
      "text/plain": [
       "5.0"
      ]
     },
     "execution_count": 8,
     "metadata": {},
     "output_type": "execute_result"
    }
   ],
   "source": [
    "import math #we need to import the `math` package for this\n",
    "math.sqrt(25)"
   ]
  },
  {
   "cell_type": "code",
   "execution_count": 9,
   "id": "rising-mambo",
   "metadata": {},
   "outputs": [
    {
     "data": {
      "text/plain": [
       "0.1411200080598672"
      ]
     },
     "execution_count": 9,
     "metadata": {},
     "output_type": "execute_result"
    }
   ],
   "source": [
    "math.sin(3)"
   ]
  },
  {
   "cell_type": "code",
   "execution_count": 10,
   "id": "peripheral-voltage",
   "metadata": {},
   "outputs": [
    {
     "data": {
      "text/plain": [
       "3.141592653589793"
      ]
     },
     "execution_count": 10,
     "metadata": {},
     "output_type": "execute_result"
    }
   ],
   "source": [
    "math.pi"
   ]
  },
  {
   "cell_type": "markdown",
   "id": "complete-arena",
   "metadata": {},
   "source": [
    "##### Summary statistics"
   ]
  },
  {
   "cell_type": "code",
   "execution_count": 30,
   "id": "convenient-milwaukee",
   "metadata": {},
   "outputs": [
    {
     "data": {
      "text/plain": [
       "5"
      ]
     },
     "execution_count": 30,
     "metadata": {},
     "output_type": "execute_result"
    }
   ],
   "source": [
    "import statistics as stats #we need to import the statistics package for this\n",
    "stats.mean([5, 4, 6, 4, 6])"
   ]
  },
  {
   "cell_type": "code",
   "execution_count": 14,
   "id": "supposed-harbor",
   "metadata": {},
   "outputs": [
    {
     "data": {
      "text/plain": [
       "5"
      ]
     },
     "execution_count": 14,
     "metadata": {},
     "output_type": "execute_result"
    }
   ],
   "source": [
    "stats.median([5, 4, 6, 4, 6])"
   ]
  },
  {
   "cell_type": "markdown",
   "id": "square-latex",
   "metadata": {},
   "source": [
    "##### Conditional statements"
   ]
  },
  {
   "cell_type": "code",
   "execution_count": 15,
   "id": "understood-graduate",
   "metadata": {},
   "outputs": [
    {
     "data": {
      "text/plain": [
       "False"
      ]
     },
     "execution_count": 15,
     "metadata": {},
     "output_type": "execute_result"
    }
   ],
   "source": [
    "4 > 5"
   ]
  },
  {
   "cell_type": "code",
   "execution_count": 16,
   "id": "knowing-islam",
   "metadata": {},
   "outputs": [
    {
     "data": {
      "text/plain": [
       "True"
      ]
     },
     "execution_count": 16,
     "metadata": {},
     "output_type": "execute_result"
    }
   ],
   "source": [
    "4 < 5"
   ]
  },
  {
   "cell_type": "code",
   "execution_count": 17,
   "id": "higher-resolution",
   "metadata": {},
   "outputs": [
    {
     "data": {
      "text/plain": [
       "True"
      ]
     },
     "execution_count": 17,
     "metadata": {},
     "output_type": "execute_result"
    }
   ],
   "source": [
    "4 != 5"
   ]
  },
  {
   "cell_type": "code",
   "execution_count": 18,
   "id": "derived-helmet",
   "metadata": {},
   "outputs": [
    {
     "data": {
      "text/plain": [
       "False"
      ]
     },
     "execution_count": 18,
     "metadata": {},
     "output_type": "execute_result"
    }
   ],
   "source": [
    "4 == 5"
   ]
  },
  {
   "cell_type": "markdown",
   "id": "relevant-progressive",
   "metadata": {},
   "source": [
    "### Objects\n",
    "Python does not use R's an *assignment* statement; it just uses `=`. "
   ]
  },
  {
   "cell_type": "code",
   "execution_count": 22,
   "id": "certified-cassette",
   "metadata": {},
   "outputs": [],
   "source": [
    "x = 3*4"
   ]
  },
  {
   "cell_type": "markdown",
   "id": "ordinary-russian",
   "metadata": {},
   "source": [
    "Now, call up the object `x`. "
   ]
  },
  {
   "cell_type": "code",
   "execution_count": 23,
   "id": "composite-insertion",
   "metadata": {},
   "outputs": [
    {
     "data": {
      "text/plain": [
       "12"
      ]
     },
     "execution_count": 23,
     "metadata": {},
     "output_type": "execute_result"
    }
   ],
   "source": [
    "x"
   ]
  },
  {
   "cell_type": "markdown",
   "id": "asian-humanity",
   "metadata": {},
   "source": [
    "Unlike R-Studio, Jupyter lab does not have a built in variable explorer. (There are [extensions](https://github.com/lckr/jupyterlab-variableInspector) for this, but we won't go into those here...) However, we can run the `%whos` command to reveal all named objects in our current session (including packages). "
   ]
  },
  {
   "cell_type": "code",
   "execution_count": 26,
   "id": "least-formula",
   "metadata": {},
   "outputs": [
    {
     "name": "stdout",
     "output_type": "stream",
     "text": [
      "Variable   Type      Data/Info\n",
      "------------------------------\n",
      "math       module    <module 'math' from '/opt<...>37m-x86_64-linux-gnu.so'>\n",
      "stats      module    <module 'statistics' from<...>python3.7/statistics.py'>\n",
      "x          int       12\n"
     ]
    }
   ],
   "source": [
    "%whos"
   ]
  },
  {
   "cell_type": "markdown",
   "id": "periodic-control",
   "metadata": {},
   "source": [
    "### Naming\n",
    "Python objects can be named with a combination of letters, numbers, and underscore (`_`) - **BUT NO PERIODS (`.`)**. The best object names are *informative*. Resist the temptation to call your object something convenient, like \"a\", \"b\", and so on. Calling your object something specific means that you can call up that object later and have an idea of what it contains, with less need for specific context. \n",
    "\n",
    "Informative names are the first illustration of a common data management recommendation: take the time to use best management practices at the outset, and it will save you time in the long term. \n",
    "\n",
    "Run the first code cell below. Then, type in \"long\" and press `tab`. What happens?\n"
   ]
  },
  {
   "cell_type": "code",
   "execution_count": 31,
   "id": "artistic-oklahoma",
   "metadata": {},
   "outputs": [],
   "source": [
    "long_name_for_illustration = 11"
   ]
  },
  {
   "cell_type": "code",
   "execution_count": null,
   "id": "proprietary-magazine",
   "metadata": {},
   "outputs": [],
   "source": []
  },
  {
   "cell_type": "markdown",
   "id": "authorized-hormone",
   "metadata": {},
   "source": [
    "What happens if there is a typo in your code?  \n",
    "Type the following in the R window:   \n",
    "`Long_name_for_illustration`  \n",
    "`longnameforillustration`  "
   ]
  },
  {
   "cell_type": "code",
   "execution_count": null,
   "id": "forced-swimming",
   "metadata": {},
   "outputs": [],
   "source": []
  },
  {
   "cell_type": "markdown",
   "id": "apparent-america",
   "metadata": {},
   "source": [
    "### Comments\n",
    "Within your Python code, it is often useful to include notes about your workflow. So that these aren't interpreted by the software as code, precede the notes with a `#` sign. Your editor will display this comment as a different color to indicate it will not be run in the console. Comments can be placed on their own lines or at the end of a line of code."
   ]
  },
  {
   "cell_type": "code",
   "execution_count": 32,
   "id": "statewide-provincial",
   "metadata": {},
   "outputs": [],
   "source": [
    "# I am demonstrating a comment here. "
   ]
  },
  {
   "cell_type": "code",
   "execution_count": 32,
   "id": "adjusted-chosen",
   "metadata": {},
   "outputs": [
    {
     "data": {
      "text/plain": [
       "2"
      ]
     },
     "execution_count": 32,
     "metadata": {},
     "output_type": "execute_result"
    }
   ],
   "source": [
    "1 + 1 # This is a simple math problem"
   ]
  },
  {
   "cell_type": "markdown",
   "id": "moderate-jaguar",
   "metadata": {},
   "source": [
    "```"
   ]
  },
  {
   "cell_type": "markdown",
   "id": "desirable-expansion",
   "metadata": {},
   "source": [
    "### Functions\n",
    "Python functions are the major tool. Functions can do virtually unlimited things within the Python universe, but each function requires specific inputs that are provided under specific syntax. We will start with a simple function that is built into Python, `len()`, which returns the length of an object."
   ]
  },
  {
   "cell_type": "code",
   "execution_count": 35,
   "id": "horizontal-astrology",
   "metadata": {},
   "outputs": [
    {
     "data": {
      "text/plain": [
       "6"
      ]
     },
     "execution_count": 35,
     "metadata": {},
     "output_type": "execute_result"
    }
   ],
   "source": [
    "len(\"ABCDEF\")"
   ]
  },
  {
   "cell_type": "markdown",
   "id": "better-antique",
   "metadata": {},
   "source": [
    "*To mimic the code in the R counterpart of this document, we actually need two functions in Python. The `range()` function works like R's `seq()` function, but it returns a \"range\" object, not a vector. To conver this to a vector we coerce the range object into a list with the `list()` function...*"
   ]
  },
  {
   "cell_type": "code",
   "execution_count": 46,
   "id": "productive-tower",
   "metadata": {},
   "outputs": [
    {
     "data": {
      "text/plain": [
       "[0, 1, 2, 3, 4, 5, 6, 7, 8, 9]"
      ]
     },
     "execution_count": 46,
     "metadata": {},
     "output_type": "execute_result"
    }
   ],
   "source": [
    "list(range(10))"
   ]
  },
  {
   "cell_type": "code",
   "execution_count": 49,
   "id": "careful-union",
   "metadata": {},
   "outputs": [
    {
     "data": {
      "text/plain": [
       "[0, 1, 2, 3, 4, 5, 6, 7, 8, 9]"
      ]
     },
     "execution_count": 49,
     "metadata": {},
     "output_type": "execute_result"
    }
   ],
   "source": [
    "ten_sequence = list(range(10))\n",
    "ten_sequence"
   ]
  },
  {
   "cell_type": "code",
   "execution_count": 48,
   "id": "medium-decimal",
   "metadata": {},
   "outputs": [
    {
     "data": {
      "text/plain": [
       "[1, 3, 5, 7, 9]"
      ]
     },
     "execution_count": 48,
     "metadata": {},
     "output_type": "execute_result"
    }
   ],
   "source": [
    "list(range(1,10,2))"
   ]
  },
  {
   "cell_type": "code",
   "execution_count": 52,
   "id": "juvenile-offer",
   "metadata": {},
   "outputs": [
    {
     "data": {
      "text/plain": [
       "\u001b[0;31mInit signature:\u001b[0m \u001b[0mrange\u001b[0m\u001b[0;34m(\u001b[0m\u001b[0mself\u001b[0m\u001b[0;34m,\u001b[0m \u001b[0;34m/\u001b[0m\u001b[0;34m,\u001b[0m \u001b[0;34m*\u001b[0m\u001b[0margs\u001b[0m\u001b[0;34m,\u001b[0m \u001b[0;34m**\u001b[0m\u001b[0mkwargs\u001b[0m\u001b[0;34m)\u001b[0m\u001b[0;34m\u001b[0m\u001b[0;34m\u001b[0m\u001b[0m\n",
       "\u001b[0;31mDocstring:\u001b[0m     \n",
       "range(stop) -> range object\n",
       "range(start, stop[, step]) -> range object\n",
       "\n",
       "Return an object that produces a sequence of integers from start (inclusive)\n",
       "to stop (exclusive) by step.  range(i, j) produces i, i+1, i+2, ..., j-1.\n",
       "start defaults to 0, and stop is omitted!  range(4) produces 0, 1, 2, 3.\n",
       "These are exactly the valid indices for a list of 4 elements.\n",
       "When step is given, it specifies the increment (or decrement).\n",
       "\u001b[0;31mType:\u001b[0m           type\n",
       "\u001b[0;31mSubclasses:\u001b[0m     \n"
      ]
     },
     "metadata": {},
     "output_type": "display_data"
    }
   ],
   "source": [
    "?range"
   ]
  },
  {
   "cell_type": "markdown",
   "id": "unique-kingdom",
   "metadata": {},
   "source": [
    "#### Defining your own function\n",
    "The basic form of a function is `functionname()`, and the packages we will use in this class will use these basic forms. However, there may be situations when you will want to create your own function. Below is a description of how to write functions through the metaphor of creating a recipe (credit: @IsabellaGhement on Twitter). \n",
    "\n",
    "Writing a function is like writing a recipe. Your function will need a recipe name (functionname). Your recipe ingredients will go inside the parentheses. The recipe steps and end product go inside the curly brackets.\n",
    "\n",
    ">→ *Note that Python does not use curly braces \"{ }\" to indicate which code goes into the function. Instead it uses **indentation**: all indented code will be part of the function's code...*  \n",
    "```python\n",
    " def functionname():\n",
    "        statement_1\n",
    "        statement_2\n",
    "        return(result)\n",
    " ```"
   ]
  },
  {
   "cell_type": "markdown",
   "id": "global-divide",
   "metadata": {},
   "source": [
    "♦ A single ingredient recipe: "
   ]
  },
  {
   "cell_type": "code",
   "execution_count": 56,
   "id": "reasonable-stephen",
   "metadata": {},
   "outputs": [],
   "source": [
    "# Write the recipe\n",
    "def recipe1(x):\n",
    "  mix = x*2\n",
    "  return(mix)"
   ]
  },
  {
   "cell_type": "code",
   "execution_count": 57,
   "id": "lined-nepal",
   "metadata": {},
   "outputs": [],
   "source": [
    "# Bake the recipe\n",
    "simplemeal = recipe1(5)"
   ]
  },
  {
   "cell_type": "code",
   "execution_count": 58,
   "id": "engaging-student",
   "metadata": {},
   "outputs": [
    {
     "data": {
      "text/plain": [
       "10"
      ]
     },
     "execution_count": 58,
     "metadata": {},
     "output_type": "execute_result"
    }
   ],
   "source": [
    "# Serve the recipe\n",
    "simplemeal"
   ]
  },
  {
   "cell_type": "markdown",
   "id": "virgin-victorian",
   "metadata": {},
   "source": [
    "♦ Two single ingredient recipes, baked at the same time: "
   ]
  },
  {
   "cell_type": "code",
   "execution_count": 76,
   "id": "hidden-flower",
   "metadata": {},
   "outputs": [],
   "source": [
    "def recipe2(x):\n",
    "    mix1 = x*2\n",
    "    mix2 = x/2\n",
    "    return([mix1, #comma indicates we continue onto the next line, as long as values are between ( ).\n",
    "            mix2])"
   ]
  },
  {
   "cell_type": "code",
   "execution_count": 70,
   "id": "acceptable-oklahoma",
   "metadata": {},
   "outputs": [],
   "source": [
    "doublesimplemeal = recipe2(6)"
   ]
  },
  {
   "cell_type": "code",
   "execution_count": 86,
   "id": "changed-modification",
   "metadata": {},
   "outputs": [
    {
     "data": {
      "text/plain": [
       "[12, 3.0]"
      ]
     },
     "execution_count": 86,
     "metadata": {},
     "output_type": "execute_result"
    }
   ],
   "source": [
    "doublesimplemeal"
   ]
  },
  {
   "cell_type": "markdown",
   "id": "variable-tunisia",
   "metadata": {},
   "source": [
    "♦ Two double ingredient recipes, baked at the same time: "
   ]
  },
  {
   "cell_type": "code",
   "execution_count": 80,
   "id": "catholic-ground",
   "metadata": {},
   "outputs": [],
   "source": [
    "def recipe3(x, f):\n",
    "    mix1 = x*f\n",
    "    mix2 = x/f\n",
    "    return([mix1,mix2])"
   ]
  },
  {
   "cell_type": "code",
   "execution_count": 85,
   "id": "first-cincinnati",
   "metadata": {},
   "outputs": [
    {
     "data": {
      "text/plain": [
       "[10, 2.5]"
      ]
     },
     "execution_count": 85,
     "metadata": {},
     "output_type": "execute_result"
    }
   ],
   "source": [
    "doublecomplexmeal = recipe3(x = 5, f = 2)\n",
    "doublecomplexmeal"
   ]
  },
  {
   "cell_type": "code",
   "execution_count": 87,
   "id": "center-residence",
   "metadata": {},
   "outputs": [
    {
     "data": {
      "text/plain": [
       "10"
      ]
     },
     "execution_count": 87,
     "metadata": {},
     "output_type": "execute_result"
    }
   ],
   "source": [
    "#Show the first item in the returned list\n",
    "doublecomplexmeal[0]"
   ]
  },
  {
   "cell_type": "markdown",
   "id": "proved-underground",
   "metadata": {},
   "source": [
    "♦Make a recipe based on the ingredients you have"
   ]
  },
  {
   "cell_type": "code",
   "execution_count": 97,
   "id": "electronic-above",
   "metadata": {},
   "outputs": [],
   "source": [
    "def recipe4(x):\n",
    "    if(x < 3):\n",
    "        return x*2 \n",
    "    else:\n",
    "        return x/2 \n",
    "\n",
    "def recipe5(x):\n",
    "    if(x < 3):    return x*2\n",
    "    elif(x > 3):  return x/2\n",
    "    else:         return x"
   ]
  },
  {
   "cell_type": "code",
   "execution_count": 99,
   "id": "overhead-boulder",
   "metadata": {},
   "outputs": [
    {
     "data": {
      "text/plain": [
       "2.0"
      ]
     },
     "execution_count": 99,
     "metadata": {},
     "output_type": "execute_result"
    }
   ],
   "source": [
    "meal = recipe4(4); meal"
   ]
  },
  {
   "cell_type": "code",
   "execution_count": 100,
   "id": "mathematical-lending",
   "metadata": {},
   "outputs": [
    {
     "data": {
      "text/plain": [
       "4"
      ]
     },
     "execution_count": 100,
     "metadata": {},
     "output_type": "execute_result"
    }
   ],
   "source": [
    "meal2 = recipe4(2); meal2"
   ]
  },
  {
   "cell_type": "code",
   "execution_count": 101,
   "id": "integrated-particular",
   "metadata": {},
   "outputs": [
    {
     "data": {
      "text/plain": [
       "3"
      ]
     },
     "execution_count": 101,
     "metadata": {},
     "output_type": "execute_result"
    }
   ],
   "source": [
    "meal3 = recipe5(3); meal3"
   ]
  },
  {
   "cell_type": "code",
   "execution_count": null,
   "id": "controversial-empty",
   "metadata": {},
   "outputs": [],
   "source": []
  }
 ],
 "metadata": {
  "kernelspec": {
   "display_name": "Python 3",
   "language": "python",
   "name": "python3"
  },
  "language_info": {
   "codemirror_mode": {
    "name": "ipython",
    "version": 3
   },
   "file_extension": ".py",
   "mimetype": "text/x-python",
   "name": "python",
   "nbconvert_exporter": "python",
   "pygments_lexer": "ipython3",
   "version": "3.7.9"
  }
 },
 "nbformat": 4,
 "nbformat_minor": 5
}
